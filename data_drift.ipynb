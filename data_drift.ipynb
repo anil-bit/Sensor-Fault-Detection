{
 "cells": [
  {
   "cell_type": "code",
   "execution_count": 1,
   "id": "9cfc3f33",
   "metadata": {},
   "outputs": [],
   "source": [
    "from scipy.stats import ks_2samp"
   ]
  },
  {
   "cell_type": "code",
   "execution_count": 2,
   "id": "1602886c",
   "metadata": {},
   "outputs": [],
   "source": [
    "import numpy as np"
   ]
  },
  {
   "cell_type": "code",
   "execution_count": 10,
   "id": "8fcbf46a",
   "metadata": {},
   "outputs": [],
   "source": [
    "d1 = np.arange(100,200)"
   ]
  },
  {
   "cell_type": "code",
   "execution_count": 11,
   "id": "0e8388c3",
   "metadata": {},
   "outputs": [],
   "source": [
    "d2 = np.arange(10)"
   ]
  },
  {
   "cell_type": "code",
   "execution_count": 12,
   "id": "44329fa7",
   "metadata": {},
   "outputs": [
    {
     "data": {
      "text/plain": [
       "array([100, 101, 102, 103, 104, 105, 106, 107, 108, 109, 110, 111, 112,\n",
       "       113, 114, 115, 116, 117, 118, 119, 120, 121, 122, 123, 124, 125,\n",
       "       126, 127, 128, 129, 130, 131, 132, 133, 134, 135, 136, 137, 138,\n",
       "       139, 140, 141, 142, 143, 144, 145, 146, 147, 148, 149, 150, 151,\n",
       "       152, 153, 154, 155, 156, 157, 158, 159, 160, 161, 162, 163, 164,\n",
       "       165, 166, 167, 168, 169, 170, 171, 172, 173, 174, 175, 176, 177,\n",
       "       178, 179, 180, 181, 182, 183, 184, 185, 186, 187, 188, 189, 190,\n",
       "       191, 192, 193, 194, 195, 196, 197, 198, 199])"
      ]
     },
     "execution_count": 12,
     "metadata": {},
     "output_type": "execute_result"
    }
   ],
   "source": [
    "d1"
   ]
  },
  {
   "cell_type": "code",
   "execution_count": 13,
   "id": "c88b9d94",
   "metadata": {},
   "outputs": [
    {
     "data": {
      "text/plain": [
       "array([0, 1, 2, 3, 4, 5, 6, 7, 8, 9])"
      ]
     },
     "execution_count": 13,
     "metadata": {},
     "output_type": "execute_result"
    }
   ],
   "source": [
    "d2"
   ]
  },
  {
   "cell_type": "code",
   "execution_count": 14,
   "id": "edc6fe37",
   "metadata": {},
   "outputs": [
    {
     "data": {
      "text/plain": [
       "KstestResult(statistic=1.0, pvalue=4.2646072253826637e-14)"
      ]
     },
     "execution_count": 14,
     "metadata": {},
     "output_type": "execute_result"
    }
   ],
   "source": [
    "ks_2samp(d1,d2)"
   ]
  },
  {
   "cell_type": "code",
   "execution_count": 17,
   "id": "fe1d3e63",
   "metadata": {},
   "outputs": [],
   "source": [
    "train_file_path = \"/home/anil/Videos/my_project/Sensor-Fault-Detection-main/artifact/01_11_23_13_55_38/data_ingestion/ingested/train.csv\""
   ]
  },
  {
   "cell_type": "code",
   "execution_count": 18,
   "id": "eeabfe96",
   "metadata": {},
   "outputs": [],
   "source": [
    "import pandas as pd\n",
    "train_df = pd.read_csv(train_file_path)"
   ]
  },
  {
   "cell_type": "code",
   "execution_count": 19,
   "id": "30befa8d",
   "metadata": {},
   "outputs": [],
   "source": [
    "test_file_path = \"/home/anil/Videos/my_project/Sensor-Fault-Detection-main/artifact/01_11_23_13_55_38/data_ingestion/ingested/test.csv\""
   ]
  },
  {
   "cell_type": "code",
   "execution_count": 21,
   "id": "bb2f143c",
   "metadata": {},
   "outputs": [],
   "source": [
    "test_df = pd.read_csv(test_file_path)"
   ]
  },
  {
   "cell_type": "code",
   "execution_count": 22,
   "id": "a564834e",
   "metadata": {},
   "outputs": [
    {
     "data": {
      "text/plain": [
       "Index(['class', 'aa_000', 'ab_000', 'ac_000', 'ad_000', 'ae_000', 'af_000',\n",
       "       'ag_000', 'ag_001', 'ag_002',\n",
       "       ...\n",
       "       'ee_002', 'ee_003', 'ee_004', 'ee_005', 'ee_006', 'ee_007', 'ee_008',\n",
       "       'ee_009', 'ef_000', 'eg_000'],\n",
       "      dtype='object', length=171)"
      ]
     },
     "execution_count": 22,
     "metadata": {},
     "output_type": "execute_result"
    }
   ],
   "source": [
    "train_df.columns"
   ]
  },
  {
   "cell_type": "code",
   "execution_count": 23,
   "id": "eff08c22",
   "metadata": {},
   "outputs": [
    {
     "data": {
      "text/plain": [
       "Index(['class', 'aa_000', 'ab_000', 'ac_000', 'ad_000', 'ae_000', 'af_000',\n",
       "       'ag_000', 'ag_001', 'ag_002',\n",
       "       ...\n",
       "       'ee_002', 'ee_003', 'ee_004', 'ee_005', 'ee_006', 'ee_007', 'ee_008',\n",
       "       'ee_009', 'ef_000', 'eg_000'],\n",
       "      dtype='object', length=171)"
      ]
     },
     "execution_count": 23,
     "metadata": {},
     "output_type": "execute_result"
    }
   ],
   "source": [
    "test_df.columns"
   ]
  },
  {
   "cell_type": "code",
   "execution_count": null,
   "id": "e667fcdf",
   "metadata": {},
   "outputs": [],
   "source": [
    "\n",
    "        \n",
    "    "
   ]
  },
  {
   "cell_type": "code",
   "execution_count": 31,
   "id": "631f4940",
   "metadata": {},
   "outputs": [],
   "source": [
    "\n",
    "def detect_dataset_drift(train_file,test_file,threshold = 0.5):\n",
    "    report={}\n",
    "    for col in train_df.columns:\n",
    "        d1 = train_file[col]\n",
    "        d2 = test_file[col]\n",
    "        p_value = ks_2samp(d1,d2)\n",
    "        if p_value.pvalue>threshold:\n",
    "            is_found  = False\n",
    "        else:\n",
    "            is_found = True\n",
    "        report.update({col:{\n",
    "            \"p_value\":float(p_value.pvalue),\n",
    "            \"drift_status\":is_found}})\n",
    "            \n",
    "    return report"
   ]
  },
  {
   "cell_type": "code",
   "execution_count": 32,
   "id": "12aad522",
   "metadata": {},
   "outputs": [
    {
     "data": {
      "text/plain": [
       "{'class': {'p_value': 1.0, 'drift_status': False},\n",
       " 'aa_000': {'p_value': 0.20281659428683319, 'drift_status': True},\n",
       " 'ab_000': {'p_value': 0.9999999909832116, 'drift_status': False},\n",
       " 'ac_000': {'p_value': 0.5273962026225387, 'drift_status': False},\n",
       " 'ad_000': {'p_value': 0.3404810107594395, 'drift_status': True},\n",
       " 'ae_000': {'p_value': 1.0, 'drift_status': False},\n",
       " 'af_000': {'p_value': 1.0, 'drift_status': False},\n",
       " 'ag_000': {'p_value': 1.0, 'drift_status': False},\n",
       " 'ag_001': {'p_value': 1.0, 'drift_status': False},\n",
       " 'ag_002': {'p_value': 0.9999999999999993, 'drift_status': False},\n",
       " 'ag_003': {'p_value': 0.9809829610143613, 'drift_status': False},\n",
       " 'ag_004': {'p_value': 0.5740568755399624, 'drift_status': False},\n",
       " 'ag_005': {'p_value': 0.4145148276883851, 'drift_status': True},\n",
       " 'ag_006': {'p_value': 0.10558372390264137, 'drift_status': True},\n",
       " 'ag_007': {'p_value': 0.34501616157057136, 'drift_status': True},\n",
       " 'ag_008': {'p_value': 0.5940504729468804, 'drift_status': False},\n",
       " 'ag_009': {'p_value': 0.9215920519873342, 'drift_status': False},\n",
       " 'ah_000': {'p_value': 0.636110037759566, 'drift_status': False},\n",
       " 'ai_000': {'p_value': 0.9944937586304186, 'drift_status': False},\n",
       " 'aj_000': {'p_value': 0.8815686407543847, 'drift_status': False},\n",
       " 'ak_000': {'p_value': 1.0, 'drift_status': False},\n",
       " 'al_000': {'p_value': 0.9301736533805044, 'drift_status': False},\n",
       " 'am_0': {'p_value': 0.9474029420390133, 'drift_status': False},\n",
       " 'an_000': {'p_value': 0.4741316659355511, 'drift_status': True},\n",
       " 'ao_000': {'p_value': 0.4783284583728512, 'drift_status': True},\n",
       " 'ap_000': {'p_value': 0.5785661918087966, 'drift_status': False},\n",
       " 'aq_000': {'p_value': 0.5265798206115068, 'drift_status': False},\n",
       " 'ar_000': {'p_value': 1.0, 'drift_status': False},\n",
       " 'as_000': {'p_value': 1.0, 'drift_status': False},\n",
       " 'at_000': {'p_value': 0.8066877916256843, 'drift_status': False},\n",
       " 'au_000': {'p_value': 1.0, 'drift_status': False},\n",
       " 'av_000': {'p_value': 0.5240077505738618, 'drift_status': False},\n",
       " 'ax_000': {'p_value': 0.16039947493136397, 'drift_status': True},\n",
       " 'ay_000': {'p_value': 1.0, 'drift_status': False},\n",
       " 'ay_001': {'p_value': 1.0, 'drift_status': False},\n",
       " 'ay_002': {'p_value': 1.0, 'drift_status': False},\n",
       " 'ay_003': {'p_value': 0.9999999999999994, 'drift_status': False},\n",
       " 'ay_004': {'p_value': 1.0, 'drift_status': False},\n",
       " 'ay_005': {'p_value': 0.27524364118148403, 'drift_status': True},\n",
       " 'ay_006': {'p_value': 0.13918638756815493, 'drift_status': True},\n",
       " 'ay_007': {'p_value': 0.09613180532595911, 'drift_status': True},\n",
       " 'ay_008': {'p_value': 0.954198218267448, 'drift_status': False},\n",
       " 'ay_009': {'p_value': 1.0, 'drift_status': False},\n",
       " 'az_000': {'p_value': 0.9827236960271176, 'drift_status': False},\n",
       " 'az_001': {'p_value': 0.5563247736595756, 'drift_status': False},\n",
       " 'az_002': {'p_value': 0.3726051496798153, 'drift_status': True},\n",
       " 'az_003': {'p_value': 0.2793115317146878, 'drift_status': True},\n",
       " 'az_004': {'p_value': 0.404180956004237, 'drift_status': True},\n",
       " 'az_005': {'p_value': 0.3730653148179055, 'drift_status': True},\n",
       " 'az_006': {'p_value': 0.4740237770027742, 'drift_status': True},\n",
       " 'az_007': {'p_value': 0.9383081648933196, 'drift_status': False},\n",
       " 'az_008': {'p_value': 0.9999998819966167, 'drift_status': False},\n",
       " 'az_009': {'p_value': 1.0, 'drift_status': False},\n",
       " 'ba_000': {'p_value': 0.41275902107990936, 'drift_status': True},\n",
       " 'ba_001': {'p_value': 0.4298014822804036, 'drift_status': True},\n",
       " 'ba_002': {'p_value': 0.6480609760825078, 'drift_status': False},\n",
       " 'ba_003': {'p_value': 0.3145282848149846, 'drift_status': True},\n",
       " 'ba_004': {'p_value': 0.050350499314856245, 'drift_status': True},\n",
       " 'ba_005': {'p_value': 0.024455365648339056, 'drift_status': True},\n",
       " 'ba_006': {'p_value': 0.0088381870516582, 'drift_status': True},\n",
       " 'ba_007': {'p_value': 0.8893677285338115, 'drift_status': False},\n",
       " 'ba_008': {'p_value': 0.37831106676847115, 'drift_status': True},\n",
       " 'ba_009': {'p_value': 0.9402247331463247, 'drift_status': False},\n",
       " 'bb_000': {'p_value': 0.2642059595370948, 'drift_status': True},\n",
       " 'bc_000': {'p_value': 0.8599387926769211, 'drift_status': False},\n",
       " 'bd_000': {'p_value': 0.9649439331079995, 'drift_status': False},\n",
       " 'be_000': {'p_value': 0.7493064767774564, 'drift_status': False},\n",
       " 'bf_000': {'p_value': 0.48991044712921683, 'drift_status': True},\n",
       " 'bg_000': {'p_value': 0.6720570995408226, 'drift_status': False},\n",
       " 'bh_000': {'p_value': 0.6153637836996761, 'drift_status': False},\n",
       " 'bi_000': {'p_value': 0.6898493965464323, 'drift_status': False},\n",
       " 'bj_000': {'p_value': 0.5297412114093984, 'drift_status': False},\n",
       " 'bk_000': {'p_value': 0.20247952989520357, 'drift_status': True},\n",
       " 'bl_000': {'p_value': 0.6812108428649883, 'drift_status': False},\n",
       " 'bm_000': {'p_value': 0.9999611820891698, 'drift_status': False},\n",
       " 'bn_000': {'p_value': 0.9998886996949441, 'drift_status': False},\n",
       " 'bo_000': {'p_value': 0.9999999999994271, 'drift_status': False},\n",
       " 'bp_000': {'p_value': 0.9999997031516167, 'drift_status': False},\n",
       " 'bq_000': {'p_value': 0.9999999999853353, 'drift_status': False},\n",
       " 'br_000': {'p_value': 0.9999999999976302, 'drift_status': False},\n",
       " 'bs_000': {'p_value': 0.5808544336632611, 'drift_status': False},\n",
       " 'bt_000': {'p_value': 0.2402168806417596, 'drift_status': True},\n",
       " 'bu_000': {'p_value': 0.25973506836134364, 'drift_status': True},\n",
       " 'bv_000': {'p_value': 0.25973506836134364, 'drift_status': True},\n",
       " 'bx_000': {'p_value': 0.3579729607059857, 'drift_status': True},\n",
       " 'by_000': {'p_value': 0.5887028769679934, 'drift_status': False},\n",
       " 'bz_000': {'p_value': 0.009468544543479127, 'drift_status': True},\n",
       " 'ca_000': {'p_value': 0.11242994768048287, 'drift_status': True},\n",
       " 'cb_000': {'p_value': 0.10368646121573755, 'drift_status': True},\n",
       " 'cc_000': {'p_value': 0.2711563442074867, 'drift_status': True},\n",
       " 'cd_000': {'p_value': 1.0, 'drift_status': False},\n",
       " 'ce_000': {'p_value': 0.7780306943940858, 'drift_status': False},\n",
       " 'cf_000': {'p_value': 0.7215607001261979, 'drift_status': False},\n",
       " 'cg_000': {'p_value': 0.20088453942597284, 'drift_status': True},\n",
       " 'ch_000': {'p_value': 0.9999904312944117, 'drift_status': False},\n",
       " 'ci_000': {'p_value': 0.2817737163572507, 'drift_status': True},\n",
       " 'cj_000': {'p_value': 0.2986430959598557, 'drift_status': True},\n",
       " 'ck_000': {'p_value': 0.34922555563889623, 'drift_status': True},\n",
       " 'cl_000': {'p_value': 0.9694839602657139, 'drift_status': False},\n",
       " 'cm_000': {'p_value': 0.9848856339022501, 'drift_status': False},\n",
       " 'cn_000': {'p_value': 1.0, 'drift_status': False},\n",
       " 'cn_001': {'p_value': 0.9998845895758982, 'drift_status': False},\n",
       " 'cn_002': {'p_value': 0.513718982779928, 'drift_status': False},\n",
       " 'cn_003': {'p_value': 0.8786985426716991, 'drift_status': False},\n",
       " 'cn_004': {'p_value': 0.31106738450559834, 'drift_status': True},\n",
       " 'cn_005': {'p_value': 0.13249618645735695, 'drift_status': True},\n",
       " 'cn_006': {'p_value': 0.185489897082742, 'drift_status': True},\n",
       " 'cn_007': {'p_value': 0.18568391454541422, 'drift_status': True},\n",
       " 'cn_008': {'p_value': 0.10816113666276417, 'drift_status': True},\n",
       " 'cn_009': {'p_value': 0.11536886737609542, 'drift_status': True},\n",
       " 'co_000': {'p_value': 0.8653732189220567, 'drift_status': False},\n",
       " 'cp_000': {'p_value': 0.809636171667824, 'drift_status': False},\n",
       " 'cq_000': {'p_value': 0.25973506836134364, 'drift_status': True},\n",
       " 'cr_000': {'p_value': 1.0, 'drift_status': False},\n",
       " 'cs_000': {'p_value': 0.5565586289546625, 'drift_status': False},\n",
       " 'cs_001': {'p_value': 0.4149471997382125, 'drift_status': True},\n",
       " 'cs_002': {'p_value': 0.9379527253616351, 'drift_status': False},\n",
       " 'cs_003': {'p_value': 0.33330986011589836, 'drift_status': True},\n",
       " 'cs_004': {'p_value': 0.39306812420866566, 'drift_status': True},\n",
       " 'cs_005': {'p_value': 0.5625111123610104, 'drift_status': False},\n",
       " 'cs_006': {'p_value': 0.16303110916158348, 'drift_status': True},\n",
       " 'cs_007': {'p_value': 0.6573035746248258, 'drift_status': False},\n",
       " 'cs_008': {'p_value': 0.35452212198286237, 'drift_status': True},\n",
       " 'cs_009': {'p_value': 0.9999990306296724, 'drift_status': False},\n",
       " 'ct_000': {'p_value': 0.33809062788403377, 'drift_status': True},\n",
       " 'cu_000': {'p_value': 0.9542838074197748, 'drift_status': False},\n",
       " 'cv_000': {'p_value': 0.3051989070568606, 'drift_status': True},\n",
       " 'cx_000': {'p_value': 0.8969371708137123, 'drift_status': False},\n",
       " 'cy_000': {'p_value': 0.9854976375967872, 'drift_status': False},\n",
       " 'cz_000': {'p_value': 0.2458165590756498, 'drift_status': True},\n",
       " 'da_000': {'p_value': 0.999674590503282, 'drift_status': False},\n",
       " 'db_000': {'p_value': 0.947916343974476, 'drift_status': False},\n",
       " 'dc_000': {'p_value': 0.23060272395768155, 'drift_status': True},\n",
       " 'dd_000': {'p_value': 0.6883140053640615, 'drift_status': False},\n",
       " 'de_000': {'p_value': 0.7582282171267976, 'drift_status': False},\n",
       " 'df_000': {'p_value': 1.0, 'drift_status': False},\n",
       " 'dg_000': {'p_value': 1.0, 'drift_status': False},\n",
       " 'dh_000': {'p_value': 0.979409512771094, 'drift_status': False},\n",
       " 'di_000': {'p_value': 0.42684117103143826, 'drift_status': True},\n",
       " 'dj_000': {'p_value': 1.0, 'drift_status': False},\n",
       " 'dk_000': {'p_value': 1.0, 'drift_status': False},\n",
       " 'dl_000': {'p_value': 0.9999999999999997, 'drift_status': False},\n",
       " 'dm_000': {'p_value': 1.0, 'drift_status': False},\n",
       " 'dn_000': {'p_value': 0.6644266578907938, 'drift_status': False},\n",
       " 'do_000': {'p_value': 0.06832103708117443, 'drift_status': True},\n",
       " 'dp_000': {'p_value': 0.11550088276026393, 'drift_status': True},\n",
       " 'dq_000': {'p_value': 0.314067630927238, 'drift_status': True},\n",
       " 'dr_000': {'p_value': 0.4207161599970156, 'drift_status': True},\n",
       " 'ds_000': {'p_value': 0.7645337214606156, 'drift_status': False},\n",
       " 'dt_000': {'p_value': 0.575548116773021, 'drift_status': False},\n",
       " 'du_000': {'p_value': 0.024959314396091004, 'drift_status': True},\n",
       " 'dv_000': {'p_value': 0.046396521671314916, 'drift_status': True},\n",
       " 'dx_000': {'p_value': 0.2974602364100928, 'drift_status': True},\n",
       " 'dy_000': {'p_value': 0.15068801491137696, 'drift_status': True},\n",
       " 'dz_000': {'p_value': 1.0, 'drift_status': False},\n",
       " 'ea_000': {'p_value': 0.9999999924544002, 'drift_status': False},\n",
       " 'eb_000': {'p_value': 0.2153951751159362, 'drift_status': True},\n",
       " 'ec_00': {'p_value': 0.4691024684167031, 'drift_status': True},\n",
       " 'ed_000': {'p_value': 0.5498766679877358, 'drift_status': False},\n",
       " 'ee_000': {'p_value': 0.40104931484746864, 'drift_status': True},\n",
       " 'ee_001': {'p_value': 0.12424043398269924, 'drift_status': True},\n",
       " 'ee_002': {'p_value': 0.07365741482056054, 'drift_status': True},\n",
       " 'ee_003': {'p_value': 0.08958447611774689, 'drift_status': True},\n",
       " 'ee_004': {'p_value': 0.13441044450866335, 'drift_status': True},\n",
       " 'ee_005': {'p_value': 0.4295802998926268, 'drift_status': True},\n",
       " 'ee_006': {'p_value': 0.32972185356997596, 'drift_status': True},\n",
       " 'ee_007': {'p_value': 0.1651810268805306, 'drift_status': True},\n",
       " 'ee_008': {'p_value': 0.04193041387713059, 'drift_status': True},\n",
       " 'ee_009': {'p_value': 0.04022892460106897, 'drift_status': True},\n",
       " 'ef_000': {'p_value': 0.9999999999949447, 'drift_status': False},\n",
       " 'eg_000': {'p_value': 0.9999999999999872, 'drift_status': False}}"
      ]
     },
     "execution_count": 32,
     "metadata": {},
     "output_type": "execute_result"
    }
   ],
   "source": [
    "drift_report(train_df,test_df)"
   ]
  },
  {
   "cell_type": "code",
   "execution_count": 30,
   "id": "b8f56861",
   "metadata": {},
   "outputs": [
    {
     "data": {
      "text/plain": [
       "{'aa_000': {'p_value': 0.20281659428683319, 'drift_status': True},\n",
       " 'ad_000': {'p_value': 0.3404810107594395, 'drift_status': True},\n",
       " 'ag_005': {'p_value': 0.4145148276883851, 'drift_status': True},\n",
       " 'ag_006': {'p_value': 0.10558372390264137, 'drift_status': True},\n",
       " 'ag_007': {'p_value': 0.34501616157057136, 'drift_status': True},\n",
       " 'an_000': {'p_value': 0.4741316659355511, 'drift_status': True},\n",
       " 'ao_000': {'p_value': 0.4783284583728512, 'drift_status': True},\n",
       " 'ax_000': {'p_value': 0.16039947493136397, 'drift_status': True},\n",
       " 'ay_005': {'p_value': 0.27524364118148403, 'drift_status': True},\n",
       " 'ay_006': {'p_value': 0.13918638756815493, 'drift_status': True},\n",
       " 'ay_007': {'p_value': 0.09613180532595911, 'drift_status': True},\n",
       " 'az_002': {'p_value': 0.3726051496798153, 'drift_status': True},\n",
       " 'az_003': {'p_value': 0.2793115317146878, 'drift_status': True},\n",
       " 'az_004': {'p_value': 0.404180956004237, 'drift_status': True},\n",
       " 'az_005': {'p_value': 0.3730653148179055, 'drift_status': True},\n",
       " 'az_006': {'p_value': 0.4740237770027742, 'drift_status': True},\n",
       " 'ba_000': {'p_value': 0.41275902107990936, 'drift_status': True},\n",
       " 'ba_001': {'p_value': 0.4298014822804036, 'drift_status': True},\n",
       " 'ba_003': {'p_value': 0.3145282848149846, 'drift_status': True},\n",
       " 'ba_004': {'p_value': 0.050350499314856245, 'drift_status': True},\n",
       " 'ba_005': {'p_value': 0.024455365648339056, 'drift_status': True},\n",
       " 'ba_006': {'p_value': 0.0088381870516582, 'drift_status': True},\n",
       " 'ba_008': {'p_value': 0.37831106676847115, 'drift_status': True},\n",
       " 'bb_000': {'p_value': 0.2642059595370948, 'drift_status': True},\n",
       " 'bf_000': {'p_value': 0.48991044712921683, 'drift_status': True},\n",
       " 'bk_000': {'p_value': 0.20247952989520357, 'drift_status': True},\n",
       " 'bt_000': {'p_value': 0.2402168806417596, 'drift_status': True},\n",
       " 'bu_000': {'p_value': 0.25973506836134364, 'drift_status': True},\n",
       " 'bv_000': {'p_value': 0.25973506836134364, 'drift_status': True},\n",
       " 'bx_000': {'p_value': 0.3579729607059857, 'drift_status': True},\n",
       " 'bz_000': {'p_value': 0.009468544543479127, 'drift_status': True},\n",
       " 'ca_000': {'p_value': 0.11242994768048287, 'drift_status': True},\n",
       " 'cb_000': {'p_value': 0.10368646121573755, 'drift_status': True},\n",
       " 'cc_000': {'p_value': 0.2711563442074867, 'drift_status': True},\n",
       " 'cg_000': {'p_value': 0.20088453942597284, 'drift_status': True},\n",
       " 'ci_000': {'p_value': 0.2817737163572507, 'drift_status': True},\n",
       " 'cj_000': {'p_value': 0.2986430959598557, 'drift_status': True},\n",
       " 'ck_000': {'p_value': 0.34922555563889623, 'drift_status': True},\n",
       " 'cn_004': {'p_value': 0.31106738450559834, 'drift_status': True},\n",
       " 'cn_005': {'p_value': 0.13249618645735695, 'drift_status': True},\n",
       " 'cn_006': {'p_value': 0.185489897082742, 'drift_status': True},\n",
       " 'cn_007': {'p_value': 0.18568391454541422, 'drift_status': True},\n",
       " 'cn_008': {'p_value': 0.10816113666276417, 'drift_status': True},\n",
       " 'cn_009': {'p_value': 0.11536886737609542, 'drift_status': True},\n",
       " 'cq_000': {'p_value': 0.25973506836134364, 'drift_status': True},\n",
       " 'cs_001': {'p_value': 0.4149471997382125, 'drift_status': True},\n",
       " 'cs_003': {'p_value': 0.33330986011589836, 'drift_status': True},\n",
       " 'cs_004': {'p_value': 0.39306812420866566, 'drift_status': True},\n",
       " 'cs_006': {'p_value': 0.16303110916158348, 'drift_status': True},\n",
       " 'cs_008': {'p_value': 0.35452212198286237, 'drift_status': True},\n",
       " 'ct_000': {'p_value': 0.33809062788403377, 'drift_status': True},\n",
       " 'cv_000': {'p_value': 0.3051989070568606, 'drift_status': True},\n",
       " 'cz_000': {'p_value': 0.2458165590756498, 'drift_status': True},\n",
       " 'dc_000': {'p_value': 0.23060272395768155, 'drift_status': True},\n",
       " 'di_000': {'p_value': 0.42684117103143826, 'drift_status': True},\n",
       " 'do_000': {'p_value': 0.06832103708117443, 'drift_status': True},\n",
       " 'dp_000': {'p_value': 0.11550088276026393, 'drift_status': True},\n",
       " 'dq_000': {'p_value': 0.314067630927238, 'drift_status': True},\n",
       " 'dr_000': {'p_value': 0.4207161599970156, 'drift_status': True},\n",
       " 'du_000': {'p_value': 0.024959314396091004, 'drift_status': True},\n",
       " 'dv_000': {'p_value': 0.046396521671314916, 'drift_status': True},\n",
       " 'dx_000': {'p_value': 0.2974602364100928, 'drift_status': True},\n",
       " 'dy_000': {'p_value': 0.15068801491137696, 'drift_status': True},\n",
       " 'eb_000': {'p_value': 0.2153951751159362, 'drift_status': True},\n",
       " 'ec_00': {'p_value': 0.4691024684167031, 'drift_status': True},\n",
       " 'ee_000': {'p_value': 0.40104931484746864, 'drift_status': True},\n",
       " 'ee_001': {'p_value': 0.12424043398269924, 'drift_status': True},\n",
       " 'ee_002': {'p_value': 0.07365741482056054, 'drift_status': True},\n",
       " 'ee_003': {'p_value': 0.08958447611774689, 'drift_status': True},\n",
       " 'ee_004': {'p_value': 0.13441044450866335, 'drift_status': True},\n",
       " 'ee_005': {'p_value': 0.4295802998926268, 'drift_status': True},\n",
       " 'ee_006': {'p_value': 0.32972185356997596, 'drift_status': True},\n",
       " 'ee_007': {'p_value': 0.1651810268805306, 'drift_status': True},\n",
       " 'ee_008': {'p_value': 0.04193041387713059, 'drift_status': True},\n",
       " 'ee_009': {'p_value': 0.04022892460106897, 'drift_status': True}}"
      ]
     },
     "execution_count": 30,
     "metadata": {},
     "output_type": "execute_result"
    }
   ],
   "source": [
    "report"
   ]
  },
  {
   "cell_type": "code",
   "execution_count": null,
   "id": "c22d54ec",
   "metadata": {},
   "outputs": [],
   "source": []
  }
 ],
 "metadata": {
  "kernelspec": {
   "display_name": "Python 3 (ipykernel)",
   "language": "python",
   "name": "python3"
  },
  "language_info": {
   "codemirror_mode": {
    "name": "ipython",
    "version": 3
   },
   "file_extension": ".py",
   "mimetype": "text/x-python",
   "name": "python",
   "nbconvert_exporter": "python",
   "pygments_lexer": "ipython3",
   "version": "3.10.6"
  }
 },
 "nbformat": 4,
 "nbformat_minor": 5
}
